{
 "cells": [
  {
   "cell_type": "code",
   "id": "initial_id",
   "metadata": {
    "collapsed": true,
    "ExecuteTime": {
     "end_time": "2024-04-21T02:57:49.953831Z",
     "start_time": "2024-04-21T02:57:49.864040Z"
    }
   },
   "source": "import numpy as np",
   "outputs": [],
   "execution_count": 1
  },
  {
   "metadata": {
    "ExecuteTime": {
     "end_time": "2024-04-21T02:58:22.434185Z",
     "start_time": "2024-04-21T02:58:22.430050Z"
    }
   },
   "cell_type": "code",
   "source": [
    "a = np.arange(10)\n",
    "print(a)"
   ],
   "id": "ce7ddb3364b319ba",
   "outputs": [
    {
     "name": "stdout",
     "output_type": "stream",
     "text": [
      "[0 1 2 3 4 5 6 7 8 9]\n"
     ]
    }
   ],
   "execution_count": 2
  },
  {
   "metadata": {
    "ExecuteTime": {
     "end_time": "2024-04-21T02:59:34.263043Z",
     "start_time": "2024-04-21T02:59:34.257054Z"
    }
   },
   "cell_type": "code",
   "source": [
    "s = slice(2, 7, 2)\n",
    "print(a[s])"
   ],
   "id": "4930fe9b8f8db53a",
   "outputs": [
    {
     "name": "stdout",
     "output_type": "stream",
     "text": [
      "[2 4 6]\n"
     ]
    }
   ],
   "execution_count": 4
  },
  {
   "metadata": {
    "ExecuteTime": {
     "end_time": "2024-04-21T03:01:08.547396Z",
     "start_time": "2024-04-21T03:01:08.543505Z"
    }
   },
   "cell_type": "code",
   "source": [
    "b = a[2:7:2]\n",
    "print(b)"
   ],
   "id": "4af9a2bf42af651e",
   "outputs": [
    {
     "name": "stdout",
     "output_type": "stream",
     "text": [
      "[2 4 6]\n"
     ]
    }
   ],
   "execution_count": 8
  },
  {
   "metadata": {
    "ExecuteTime": {
     "end_time": "2024-04-21T03:02:05.902901Z",
     "start_time": "2024-04-21T03:02:05.898911Z"
    }
   },
   "cell_type": "code",
   "source": "print(a[4:])",
   "id": "cca5390feec75b8a",
   "outputs": [
    {
     "name": "stdout",
     "output_type": "stream",
     "text": [
      "[4 5 6 7 8 9]\n"
     ]
    }
   ],
   "execution_count": 10
  },
  {
   "metadata": {
    "ExecuteTime": {
     "end_time": "2024-04-21T03:03:08.533082Z",
     "start_time": "2024-04-21T03:03:08.524276Z"
    }
   },
   "cell_type": "code",
   "source": [
    "a = np.array([[1,2,3], [4,5,6], [7,8,9]])\n",
    "print(a)"
   ],
   "id": "8f512c950f1ff50f",
   "outputs": [
    {
     "name": "stdout",
     "output_type": "stream",
     "text": [
      "[[1 2 3]\n",
      " [4 5 6]\n",
      " [7 8 9]]\n"
     ]
    }
   ],
   "execution_count": 11
  },
  {
   "metadata": {
    "ExecuteTime": {
     "end_time": "2024-04-21T03:03:29.407950Z",
     "start_time": "2024-04-21T03:03:29.404655Z"
    }
   },
   "cell_type": "code",
   "source": "print(a[1:])",
   "id": "fd867a921de0b1d",
   "outputs": [
    {
     "name": "stdout",
     "output_type": "stream",
     "text": [
      "[[4 5 6]\n",
      " [7 8 9]]\n"
     ]
    }
   ],
   "execution_count": 12
  },
  {
   "metadata": {
    "ExecuteTime": {
     "end_time": "2024-04-21T03:06:50.238050Z",
     "start_time": "2024-04-21T03:06:50.232850Z"
    }
   },
   "cell_type": "code",
   "source": [
    "b = a[[0,1,2], [0,1,0]]\n",
    "print(b)"
   ],
   "id": "8c5da11ab7a30c65",
   "outputs": [
    {
     "name": "stdout",
     "output_type": "stream",
     "text": [
      "[1 5 7]\n"
     ]
    }
   ],
   "execution_count": 13
  },
  {
   "metadata": {
    "ExecuteTime": {
     "end_time": "2024-04-21T03:08:14.042012Z",
     "start_time": "2024-04-21T03:08:14.030557Z"
    }
   },
   "cell_type": "code",
   "source": [
    "c = a[[0], [1]]\n",
    "print(c)"
   ],
   "id": "2c3973d2c1c00",
   "outputs": [
    {
     "name": "stdout",
     "output_type": "stream",
     "text": [
      "[2]\n"
     ]
    }
   ],
   "execution_count": 15
  },
  {
   "metadata": {
    "ExecuteTime": {
     "end_time": "2024-04-21T03:10:23.004974Z",
     "start_time": "2024-04-21T03:10:23.000957Z"
    }
   },
   "cell_type": "code",
   "source": [
    "x = np.array([[0,1,2], [3,4,5], [6,7,8], [9, 10, 11]])\n",
    "print(x)"
   ],
   "id": "8545add19be2746a",
   "outputs": [
    {
     "name": "stdout",
     "output_type": "stream",
     "text": [
      "[[ 0  1  2]\n",
      " [ 3  4  5]\n",
      " [ 6  7  8]\n",
      " [ 9 10 11]]\n"
     ]
    }
   ],
   "execution_count": 16
  },
  {
   "metadata": {
    "ExecuteTime": {
     "end_time": "2024-04-21T03:12:36.526342Z",
     "start_time": "2024-04-21T03:12:36.522270Z"
    }
   },
   "cell_type": "code",
   "source": [
    "row = np.array([[0,0], [3,3]])\n",
    "cols = np.array([[0,2], [0,2]])\n",
    "y = x[row, cols]\n",
    "print(y)"
   ],
   "id": "97fa9bab02072c66",
   "outputs": [
    {
     "name": "stdout",
     "output_type": "stream",
     "text": [
      "[[ 0  2]\n",
      " [ 9 11]]\n"
     ]
    }
   ],
   "execution_count": 17
  },
  {
   "metadata": {
    "ExecuteTime": {
     "end_time": "2024-04-21T03:14:32.871136Z",
     "start_time": "2024-04-21T03:14:32.867626Z"
    }
   },
   "cell_type": "code",
   "source": "print(x[x>5])",
   "id": "70c9eb24eb245de7",
   "outputs": [
    {
     "name": "stdout",
     "output_type": "stream",
     "text": [
      "[ 6  7  8  9 10 11]\n"
     ]
    }
   ],
   "execution_count": 18
  },
  {
   "metadata": {},
   "cell_type": "code",
   "outputs": [],
   "execution_count": null,
   "source": "",
   "id": "3dff2e11d388dcf8"
  }
 ],
 "metadata": {
  "kernelspec": {
   "display_name": "Python 3",
   "language": "python",
   "name": "python3"
  },
  "language_info": {
   "codemirror_mode": {
    "name": "ipython",
    "version": 2
   },
   "file_extension": ".py",
   "mimetype": "text/x-python",
   "name": "python",
   "nbconvert_exporter": "python",
   "pygments_lexer": "ipython2",
   "version": "2.7.6"
  }
 },
 "nbformat": 4,
 "nbformat_minor": 5
}
