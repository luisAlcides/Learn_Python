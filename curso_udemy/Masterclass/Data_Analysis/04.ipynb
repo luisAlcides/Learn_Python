{
 "cells": [
  {
   "metadata": {},
   "cell_type": "raw",
   "source": "import numpy as np",
   "id": "f17ce2bc57db490a"
  },
  {
   "metadata": {
    "ExecuteTime": {
     "end_time": "2024-04-18T03:58:39.455181Z",
     "start_time": "2024-04-18T03:58:39.244094Z"
    }
   },
   "cell_type": "code",
   "source": "import numpy as np",
   "id": "f4147a912645a7b",
   "outputs": [],
   "execution_count": 1
  },
  {
   "metadata": {
    "ExecuteTime": {
     "end_time": "2024-04-18T04:00:19.948434Z",
     "start_time": "2024-04-18T04:00:19.937792Z"
    }
   },
   "cell_type": "code",
   "source": [
    "a = np.array([1,2,3,4])\n",
    "a"
   ],
   "id": "892f0fcf6bce3833",
   "outputs": [
    {
     "data": {
      "text/plain": [
       "array([1, 2, 3, 4])"
      ]
     },
     "execution_count": 7,
     "metadata": {},
     "output_type": "execute_result"
    }
   ],
   "execution_count": 7
  },
  {
   "metadata": {
    "ExecuteTime": {
     "end_time": "2024-04-18T03:59:03.767448Z",
     "start_time": "2024-04-18T03:59:03.759787Z"
    }
   },
   "cell_type": "code",
   "source": "print(a)",
   "id": "5c7c8282f6fd1dd",
   "outputs": [
    {
     "name": "stdout",
     "output_type": "stream",
     "text": [
      "[1 2 3 4 5]\n"
     ]
    }
   ],
   "execution_count": 3
  },
  {
   "metadata": {
    "ExecuteTime": {
     "end_time": "2024-04-18T04:00:23.469965Z",
     "start_time": "2024-04-18T04:00:23.459561Z"
    }
   },
   "cell_type": "code",
   "source": "a.reshape(2, 2)",
   "id": "370e354cc71fe3f5",
   "outputs": [
    {
     "data": {
      "text/plain": [
       "array([[1, 2],\n",
       "       [3, 4]])"
      ]
     },
     "execution_count": 8,
     "metadata": {},
     "output_type": "execute_result"
    }
   ],
   "execution_count": 8
  },
  {
   "metadata": {},
   "cell_type": "code",
   "outputs": [],
   "execution_count": null,
   "source": "",
   "id": "387789a784d27a09"
  }
 ],
 "metadata": {
  "kernelspec": {
   "display_name": "Python 3",
   "language": "python",
   "name": "python3"
  },
  "language_info": {
   "codemirror_mode": {
    "name": "ipython",
    "version": 2
   },
   "file_extension": ".py",
   "mimetype": "text/x-python",
   "name": "python",
   "nbconvert_exporter": "python",
   "pygments_lexer": "ipython2",
   "version": "2.7.6"
  }
 },
 "nbformat": 4,
 "nbformat_minor": 5
}
