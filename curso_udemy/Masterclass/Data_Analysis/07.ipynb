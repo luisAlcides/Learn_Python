{
 "cells": [
  {
   "cell_type": "code",
   "id": "initial_id",
   "metadata": {
    "collapsed": true,
    "ExecuteTime": {
     "end_time": "2024-04-21T03:16:39.206473Z",
     "start_time": "2024-04-21T03:16:39.118890Z"
    }
   },
   "source": "import numpy as np\n",
   "outputs": [],
   "execution_count": 1
  },
  {
   "metadata": {
    "ExecuteTime": {
     "end_time": "2024-04-21T03:17:05.458183Z",
     "start_time": "2024-04-21T03:17:05.444224Z"
    }
   },
   "cell_type": "code",
   "source": [
    "a = np.array([1,2,3,4])\n",
    "b = np.array([10, 20, 30, 40])\n",
    "c = a * b\n",
    "print(c)"
   ],
   "id": "ad8e4eb0c73ae064",
   "outputs": [
    {
     "name": "stdout",
     "output_type": "stream",
     "text": [
      "[ 10  40  90 160]\n"
     ]
    }
   ],
   "execution_count": 2
  },
  {
   "metadata": {
    "ExecuteTime": {
     "end_time": "2024-04-21T03:18:43.561735Z",
     "start_time": "2024-04-21T03:18:43.557462Z"
    }
   },
   "cell_type": "code",
   "source": [
    "a  = np.array([[1,2,3], [4,5,6], [7,8,9]])\n",
    "b = np.array([1,2,3])\n",
    "print(a)\n",
    "print(b)"
   ],
   "id": "6ee91dc8601335f8",
   "outputs": [
    {
     "name": "stdout",
     "output_type": "stream",
     "text": [
      "[[1 2 3]\n",
      " [4 5 6]\n",
      " [7 8 9]]\n",
      "[1 2 3]\n"
     ]
    }
   ],
   "execution_count": 3
  },
  {
   "metadata": {
    "ExecuteTime": {
     "end_time": "2024-04-21T03:19:07.378927Z",
     "start_time": "2024-04-21T03:19:07.372638Z"
    }
   },
   "cell_type": "code",
   "source": "print(a+b)",
   "id": "da0a172a9e187121",
   "outputs": [
    {
     "name": "stdout",
     "output_type": "stream",
     "text": [
      "[[ 2  4  6]\n",
      " [ 5  7  9]\n",
      " [ 8 10 12]]\n"
     ]
    }
   ],
   "execution_count": 4
  },
  {
   "metadata": {},
   "cell_type": "code",
   "outputs": [],
   "execution_count": null,
   "source": "",
   "id": "16dac8140972acf5"
  }
 ],
 "metadata": {
  "kernelspec": {
   "display_name": "Python 3",
   "language": "python",
   "name": "python3"
  },
  "language_info": {
   "codemirror_mode": {
    "name": "ipython",
    "version": 2
   },
   "file_extension": ".py",
   "mimetype": "text/x-python",
   "name": "python",
   "nbconvert_exporter": "python",
   "pygments_lexer": "ipython2",
   "version": "2.7.6"
  }
 },
 "nbformat": 4,
 "nbformat_minor": 5
}
