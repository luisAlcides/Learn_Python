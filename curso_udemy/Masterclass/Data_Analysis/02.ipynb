{
 "cells": [
  {
   "cell_type": "code",
   "id": "initial_id",
   "metadata": {
    "collapsed": true,
    "ExecuteTime": {
     "end_time": "2024-04-18T03:04:45.322612Z",
     "start_time": "2024-04-18T03:04:44.293931Z"
    }
   },
   "source": "import pandas as pd",
   "outputs": [],
   "execution_count": 1
  },
  {
   "metadata": {
    "ExecuteTime": {
     "end_time": "2024-04-18T03:05:16.052818Z",
     "start_time": "2024-04-18T03:05:16.045730Z"
    }
   },
   "cell_type": "code",
   "source": [
    "series1 = pd.Series([1,2,3,4,5])\n",
    "series2 = pd.Series([100,200,300,400,500])\n"
   ],
   "id": "ec10a7cc4695f280",
   "outputs": [],
   "execution_count": 2
  },
  {
   "metadata": {
    "ExecuteTime": {
     "end_time": "2024-04-18T03:06:08.491921Z",
     "start_time": "2024-04-18T03:06:08.474429Z"
    }
   },
   "cell_type": "code",
   "source": [
    "series3 = series1 + series2\n",
    "series3"
   ],
   "id": "d2f6301bed09f22f",
   "outputs": [
    {
     "data": {
      "text/plain": [
       "0    101\n",
       "1    202\n",
       "2    303\n",
       "3    404\n",
       "4    505\n",
       "dtype: int64"
      ]
     },
     "execution_count": 3,
     "metadata": {},
     "output_type": "execute_result"
    }
   ],
   "execution_count": 3
  },
  {
   "metadata": {
    "ExecuteTime": {
     "end_time": "2024-04-18T03:09:03.896158Z",
     "start_time": "2024-04-18T03:09:03.885679Z"
    }
   },
   "cell_type": "code",
   "source": [
    "data1 = {'Speed': [100, 103, 105], 'Temp': [34, 23, 42]}\n",
    "frame1 = pd.DataFrame(data1)\n",
    "frame1"
   ],
   "id": "5dc6400a6ec0ebe7",
   "outputs": [
    {
     "data": {
      "text/plain": [
       "   Speed  Temp\n",
       "0    100    34\n",
       "1    103    23\n",
       "2    105    42"
      ],
      "text/html": [
       "<div>\n",
       "<style scoped>\n",
       "    .dataframe tbody tr th:only-of-type {\n",
       "        vertical-align: middle;\n",
       "    }\n",
       "\n",
       "    .dataframe tbody tr th {\n",
       "        vertical-align: top;\n",
       "    }\n",
       "\n",
       "    .dataframe thead th {\n",
       "        text-align: right;\n",
       "    }\n",
       "</style>\n",
       "<table border=\"1\" class=\"dataframe\">\n",
       "  <thead>\n",
       "    <tr style=\"text-align: right;\">\n",
       "      <th></th>\n",
       "      <th>Speed</th>\n",
       "      <th>Temp</th>\n",
       "    </tr>\n",
       "  </thead>\n",
       "  <tbody>\n",
       "    <tr>\n",
       "      <th>0</th>\n",
       "      <td>100</td>\n",
       "      <td>34</td>\n",
       "    </tr>\n",
       "    <tr>\n",
       "      <th>1</th>\n",
       "      <td>103</td>\n",
       "      <td>23</td>\n",
       "    </tr>\n",
       "    <tr>\n",
       "      <th>2</th>\n",
       "      <td>105</td>\n",
       "      <td>42</td>\n",
       "    </tr>\n",
       "  </tbody>\n",
       "</table>\n",
       "</div>"
      ]
     },
     "execution_count": 4,
     "metadata": {},
     "output_type": "execute_result"
    }
   ],
   "execution_count": 4
  },
  {
   "metadata": {
    "ExecuteTime": {
     "end_time": "2024-04-18T03:10:19.506712Z",
     "start_time": "2024-04-18T03:10:19.493010Z"
    }
   },
   "cell_type": "code",
   "source": [
    "data2 = {'Speed': [102, 123, 135], 'Temp': [14, 43, 22], 'Huminity': [45, 23, 14]}\n",
    "frame2 = pd.DataFrame(data2)\n",
    "frame2"
   ],
   "id": "fd4179285b134936",
   "outputs": [
    {
     "data": {
      "text/plain": [
       "   Speed  Temp  Huminity\n",
       "0    102    14        45\n",
       "1    123    43        23\n",
       "2    135    22        14"
      ],
      "text/html": [
       "<div>\n",
       "<style scoped>\n",
       "    .dataframe tbody tr th:only-of-type {\n",
       "        vertical-align: middle;\n",
       "    }\n",
       "\n",
       "    .dataframe tbody tr th {\n",
       "        vertical-align: top;\n",
       "    }\n",
       "\n",
       "    .dataframe thead th {\n",
       "        text-align: right;\n",
       "    }\n",
       "</style>\n",
       "<table border=\"1\" class=\"dataframe\">\n",
       "  <thead>\n",
       "    <tr style=\"text-align: right;\">\n",
       "      <th></th>\n",
       "      <th>Speed</th>\n",
       "      <th>Temp</th>\n",
       "      <th>Huminity</th>\n",
       "    </tr>\n",
       "  </thead>\n",
       "  <tbody>\n",
       "    <tr>\n",
       "      <th>0</th>\n",
       "      <td>102</td>\n",
       "      <td>14</td>\n",
       "      <td>45</td>\n",
       "    </tr>\n",
       "    <tr>\n",
       "      <th>1</th>\n",
       "      <td>123</td>\n",
       "      <td>43</td>\n",
       "      <td>23</td>\n",
       "    </tr>\n",
       "    <tr>\n",
       "      <th>2</th>\n",
       "      <td>135</td>\n",
       "      <td>22</td>\n",
       "      <td>14</td>\n",
       "    </tr>\n",
       "  </tbody>\n",
       "</table>\n",
       "</div>"
      ]
     },
     "execution_count": 5,
     "metadata": {},
     "output_type": "execute_result"
    }
   ],
   "execution_count": 5
  },
  {
   "metadata": {
    "ExecuteTime": {
     "end_time": "2024-04-18T03:10:40.388412Z",
     "start_time": "2024-04-18T03:10:40.369624Z"
    }
   },
   "cell_type": "code",
   "source": [
    "frame3 = frame1 + frame2\n",
    "frame3"
   ],
   "id": "5e511db49fccd766",
   "outputs": [
    {
     "data": {
      "text/plain": [
       "   Huminity  Speed  Temp\n",
       "0       NaN    202    48\n",
       "1       NaN    226    66\n",
       "2       NaN    240    64"
      ],
      "text/html": [
       "<div>\n",
       "<style scoped>\n",
       "    .dataframe tbody tr th:only-of-type {\n",
       "        vertical-align: middle;\n",
       "    }\n",
       "\n",
       "    .dataframe tbody tr th {\n",
       "        vertical-align: top;\n",
       "    }\n",
       "\n",
       "    .dataframe thead th {\n",
       "        text-align: right;\n",
       "    }\n",
       "</style>\n",
       "<table border=\"1\" class=\"dataframe\">\n",
       "  <thead>\n",
       "    <tr style=\"text-align: right;\">\n",
       "      <th></th>\n",
       "      <th>Huminity</th>\n",
       "      <th>Speed</th>\n",
       "      <th>Temp</th>\n",
       "    </tr>\n",
       "  </thead>\n",
       "  <tbody>\n",
       "    <tr>\n",
       "      <th>0</th>\n",
       "      <td>NaN</td>\n",
       "      <td>202</td>\n",
       "      <td>48</td>\n",
       "    </tr>\n",
       "    <tr>\n",
       "      <th>1</th>\n",
       "      <td>NaN</td>\n",
       "      <td>226</td>\n",
       "      <td>66</td>\n",
       "    </tr>\n",
       "    <tr>\n",
       "      <th>2</th>\n",
       "      <td>NaN</td>\n",
       "      <td>240</td>\n",
       "      <td>64</td>\n",
       "    </tr>\n",
       "  </tbody>\n",
       "</table>\n",
       "</div>"
      ]
     },
     "execution_count": 6,
     "metadata": {},
     "output_type": "execute_result"
    }
   ],
   "execution_count": 6
  },
  {
   "metadata": {
    "ExecuteTime": {
     "end_time": "2024-04-18T03:13:49.309304Z",
     "start_time": "2024-04-18T03:13:49.298232Z"
    }
   },
   "cell_type": "code",
   "source": [
    "series2 = pd.Series([100, 200, 300], index=['Speed', 'Temp', 'Humidity'])\n",
    "series2"
   ],
   "id": "394d580c5125a7d4",
   "outputs": [
    {
     "data": {
      "text/plain": [
       "Speed       100\n",
       "Temp        200\n",
       "Humidity    300\n",
       "dtype: int64"
      ]
     },
     "execution_count": 7,
     "metadata": {},
     "output_type": "execute_result"
    }
   ],
   "execution_count": 7
  },
  {
   "metadata": {
    "ExecuteTime": {
     "end_time": "2024-04-18T03:14:08.766534Z",
     "start_time": "2024-04-18T03:14:08.751984Z"
    }
   },
   "cell_type": "code",
   "source": "frame2 - series2",
   "id": "d0b3e8a3cded65ef",
   "outputs": [
    {
     "data": {
      "text/plain": [
       "   Humidity  Huminity  Speed   Temp\n",
       "0       NaN       NaN    2.0 -186.0\n",
       "1       NaN       NaN   23.0 -157.0\n",
       "2       NaN       NaN   35.0 -178.0"
      ],
      "text/html": [
       "<div>\n",
       "<style scoped>\n",
       "    .dataframe tbody tr th:only-of-type {\n",
       "        vertical-align: middle;\n",
       "    }\n",
       "\n",
       "    .dataframe tbody tr th {\n",
       "        vertical-align: top;\n",
       "    }\n",
       "\n",
       "    .dataframe thead th {\n",
       "        text-align: right;\n",
       "    }\n",
       "</style>\n",
       "<table border=\"1\" class=\"dataframe\">\n",
       "  <thead>\n",
       "    <tr style=\"text-align: right;\">\n",
       "      <th></th>\n",
       "      <th>Humidity</th>\n",
       "      <th>Huminity</th>\n",
       "      <th>Speed</th>\n",
       "      <th>Temp</th>\n",
       "    </tr>\n",
       "  </thead>\n",
       "  <tbody>\n",
       "    <tr>\n",
       "      <th>0</th>\n",
       "      <td>NaN</td>\n",
       "      <td>NaN</td>\n",
       "      <td>2.0</td>\n",
       "      <td>-186.0</td>\n",
       "    </tr>\n",
       "    <tr>\n",
       "      <th>1</th>\n",
       "      <td>NaN</td>\n",
       "      <td>NaN</td>\n",
       "      <td>23.0</td>\n",
       "      <td>-157.0</td>\n",
       "    </tr>\n",
       "    <tr>\n",
       "      <th>2</th>\n",
       "      <td>NaN</td>\n",
       "      <td>NaN</td>\n",
       "      <td>35.0</td>\n",
       "      <td>-178.0</td>\n",
       "    </tr>\n",
       "  </tbody>\n",
       "</table>\n",
       "</div>"
      ]
     },
     "execution_count": 8,
     "metadata": {},
     "output_type": "execute_result"
    }
   ],
   "execution_count": 8
  },
  {
   "metadata": {
    "ExecuteTime": {
     "end_time": "2024-04-18T03:20:12.257016Z",
     "start_time": "2024-04-18T03:20:12.248183Z"
    }
   },
   "cell_type": "code",
   "source": [
    "ser = pd.Series([3,7,1,4,7,2], index=[2,3,4,1,5,3])\n",
    "ser"
   ],
   "id": "6ed275ac3629b0b3",
   "outputs": [
    {
     "data": {
      "text/plain": [
       "2    3\n",
       "3    7\n",
       "4    1\n",
       "1    4\n",
       "5    7\n",
       "3    2\n",
       "dtype: int64"
      ]
     },
     "execution_count": 10,
     "metadata": {},
     "output_type": "execute_result"
    }
   ],
   "execution_count": 10
  },
  {
   "metadata": {
    "ExecuteTime": {
     "end_time": "2024-04-18T03:20:18.895383Z",
     "start_time": "2024-04-18T03:20:18.885816Z"
    }
   },
   "cell_type": "code",
   "source": "ser.sort_index()",
   "id": "101931de5e22739b",
   "outputs": [
    {
     "data": {
      "text/plain": [
       "1    4\n",
       "2    3\n",
       "3    7\n",
       "3    2\n",
       "4    1\n",
       "5    7\n",
       "dtype: int64"
      ]
     },
     "execution_count": 11,
     "metadata": {},
     "output_type": "execute_result"
    }
   ],
   "execution_count": 11
  },
  {
   "metadata": {
    "ExecuteTime": {
     "end_time": "2024-04-18T03:22:02.911640Z",
     "start_time": "2024-04-18T03:22:02.902494Z"
    }
   },
   "cell_type": "code",
   "source": "frame2",
   "id": "9cc51d5957c96fc7",
   "outputs": [
    {
     "data": {
      "text/plain": [
       "   Speed  Temp  Huminity\n",
       "0    102    14        45\n",
       "1    123    43        23\n",
       "2    135    22        14"
      ],
      "text/html": [
       "<div>\n",
       "<style scoped>\n",
       "    .dataframe tbody tr th:only-of-type {\n",
       "        vertical-align: middle;\n",
       "    }\n",
       "\n",
       "    .dataframe tbody tr th {\n",
       "        vertical-align: top;\n",
       "    }\n",
       "\n",
       "    .dataframe thead th {\n",
       "        text-align: right;\n",
       "    }\n",
       "</style>\n",
       "<table border=\"1\" class=\"dataframe\">\n",
       "  <thead>\n",
       "    <tr style=\"text-align: right;\">\n",
       "      <th></th>\n",
       "      <th>Speed</th>\n",
       "      <th>Temp</th>\n",
       "      <th>Huminity</th>\n",
       "    </tr>\n",
       "  </thead>\n",
       "  <tbody>\n",
       "    <tr>\n",
       "      <th>0</th>\n",
       "      <td>102</td>\n",
       "      <td>14</td>\n",
       "      <td>45</td>\n",
       "    </tr>\n",
       "    <tr>\n",
       "      <th>1</th>\n",
       "      <td>123</td>\n",
       "      <td>43</td>\n",
       "      <td>23</td>\n",
       "    </tr>\n",
       "    <tr>\n",
       "      <th>2</th>\n",
       "      <td>135</td>\n",
       "      <td>22</td>\n",
       "      <td>14</td>\n",
       "    </tr>\n",
       "  </tbody>\n",
       "</table>\n",
       "</div>"
      ]
     },
     "execution_count": 12,
     "metadata": {},
     "output_type": "execute_result"
    }
   ],
   "execution_count": 12
  },
  {
   "metadata": {
    "ExecuteTime": {
     "end_time": "2024-04-18T03:22:22.497553Z",
     "start_time": "2024-04-18T03:22:22.483752Z"
    }
   },
   "cell_type": "code",
   "source": [
    "frame2 = frame2.reindex([2,1,0])\n",
    "frame2"
   ],
   "id": "7e0b64660e304c0a",
   "outputs": [
    {
     "data": {
      "text/plain": [
       "   Speed  Temp  Huminity\n",
       "2    135    22        14\n",
       "1    123    43        23\n",
       "0    102    14        45"
      ],
      "text/html": [
       "<div>\n",
       "<style scoped>\n",
       "    .dataframe tbody tr th:only-of-type {\n",
       "        vertical-align: middle;\n",
       "    }\n",
       "\n",
       "    .dataframe tbody tr th {\n",
       "        vertical-align: top;\n",
       "    }\n",
       "\n",
       "    .dataframe thead th {\n",
       "        text-align: right;\n",
       "    }\n",
       "</style>\n",
       "<table border=\"1\" class=\"dataframe\">\n",
       "  <thead>\n",
       "    <tr style=\"text-align: right;\">\n",
       "      <th></th>\n",
       "      <th>Speed</th>\n",
       "      <th>Temp</th>\n",
       "      <th>Huminity</th>\n",
       "    </tr>\n",
       "  </thead>\n",
       "  <tbody>\n",
       "    <tr>\n",
       "      <th>2</th>\n",
       "      <td>135</td>\n",
       "      <td>22</td>\n",
       "      <td>14</td>\n",
       "    </tr>\n",
       "    <tr>\n",
       "      <th>1</th>\n",
       "      <td>123</td>\n",
       "      <td>43</td>\n",
       "      <td>23</td>\n",
       "    </tr>\n",
       "    <tr>\n",
       "      <th>0</th>\n",
       "      <td>102</td>\n",
       "      <td>14</td>\n",
       "      <td>45</td>\n",
       "    </tr>\n",
       "  </tbody>\n",
       "</table>\n",
       "</div>"
      ]
     },
     "execution_count": 13,
     "metadata": {},
     "output_type": "execute_result"
    }
   ],
   "execution_count": 13
  },
  {
   "metadata": {
    "ExecuteTime": {
     "end_time": "2024-04-18T03:22:34.503181Z",
     "start_time": "2024-04-18T03:22:34.491308Z"
    }
   },
   "cell_type": "code",
   "source": "frame2.sort_index()",
   "id": "ec04010e1286530e",
   "outputs": [
    {
     "data": {
      "text/plain": [
       "   Speed  Temp  Huminity\n",
       "0    102    14        45\n",
       "1    123    43        23\n",
       "2    135    22        14"
      ],
      "text/html": [
       "<div>\n",
       "<style scoped>\n",
       "    .dataframe tbody tr th:only-of-type {\n",
       "        vertical-align: middle;\n",
       "    }\n",
       "\n",
       "    .dataframe tbody tr th {\n",
       "        vertical-align: top;\n",
       "    }\n",
       "\n",
       "    .dataframe thead th {\n",
       "        text-align: right;\n",
       "    }\n",
       "</style>\n",
       "<table border=\"1\" class=\"dataframe\">\n",
       "  <thead>\n",
       "    <tr style=\"text-align: right;\">\n",
       "      <th></th>\n",
       "      <th>Speed</th>\n",
       "      <th>Temp</th>\n",
       "      <th>Huminity</th>\n",
       "    </tr>\n",
       "  </thead>\n",
       "  <tbody>\n",
       "    <tr>\n",
       "      <th>0</th>\n",
       "      <td>102</td>\n",
       "      <td>14</td>\n",
       "      <td>45</td>\n",
       "    </tr>\n",
       "    <tr>\n",
       "      <th>1</th>\n",
       "      <td>123</td>\n",
       "      <td>43</td>\n",
       "      <td>23</td>\n",
       "    </tr>\n",
       "    <tr>\n",
       "      <th>2</th>\n",
       "      <td>135</td>\n",
       "      <td>22</td>\n",
       "      <td>14</td>\n",
       "    </tr>\n",
       "  </tbody>\n",
       "</table>\n",
       "</div>"
      ]
     },
     "execution_count": 14,
     "metadata": {},
     "output_type": "execute_result"
    }
   ],
   "execution_count": 14
  },
  {
   "metadata": {
    "ExecuteTime": {
     "end_time": "2024-04-18T03:24:10.849661Z",
     "start_time": "2024-04-18T03:24:10.834633Z"
    }
   },
   "cell_type": "code",
   "source": [
    "frame2 = frame2.reindex(columns=['Speed', 'Huminity', 'Temp'])\n",
    "frame2"
   ],
   "id": "ad8298e44e64dd0e",
   "outputs": [
    {
     "data": {
      "text/plain": [
       "   Speed  Huminity  Temp\n",
       "2    135        14    22\n",
       "1    123        23    43\n",
       "0    102        45    14"
      ],
      "text/html": [
       "<div>\n",
       "<style scoped>\n",
       "    .dataframe tbody tr th:only-of-type {\n",
       "        vertical-align: middle;\n",
       "    }\n",
       "\n",
       "    .dataframe tbody tr th {\n",
       "        vertical-align: top;\n",
       "    }\n",
       "\n",
       "    .dataframe thead th {\n",
       "        text-align: right;\n",
       "    }\n",
       "</style>\n",
       "<table border=\"1\" class=\"dataframe\">\n",
       "  <thead>\n",
       "    <tr style=\"text-align: right;\">\n",
       "      <th></th>\n",
       "      <th>Speed</th>\n",
       "      <th>Huminity</th>\n",
       "      <th>Temp</th>\n",
       "    </tr>\n",
       "  </thead>\n",
       "  <tbody>\n",
       "    <tr>\n",
       "      <th>2</th>\n",
       "      <td>135</td>\n",
       "      <td>14</td>\n",
       "      <td>22</td>\n",
       "    </tr>\n",
       "    <tr>\n",
       "      <th>1</th>\n",
       "      <td>123</td>\n",
       "      <td>23</td>\n",
       "      <td>43</td>\n",
       "    </tr>\n",
       "    <tr>\n",
       "      <th>0</th>\n",
       "      <td>102</td>\n",
       "      <td>45</td>\n",
       "      <td>14</td>\n",
       "    </tr>\n",
       "  </tbody>\n",
       "</table>\n",
       "</div>"
      ]
     },
     "execution_count": 16,
     "metadata": {},
     "output_type": "execute_result"
    }
   ],
   "execution_count": 16
  },
  {
   "metadata": {
    "ExecuteTime": {
     "end_time": "2024-04-18T03:27:17.989892Z",
     "start_time": "2024-04-18T03:27:17.980896Z"
    }
   },
   "cell_type": "code",
   "source": "series2.sort_values()",
   "id": "f6d3153f9b5e7399",
   "outputs": [
    {
     "data": {
      "text/plain": [
       "Speed       100\n",
       "Temp        200\n",
       "Humidity    300\n",
       "dtype: int64"
      ]
     },
     "execution_count": 17,
     "metadata": {},
     "output_type": "execute_result"
    }
   ],
   "execution_count": 17
  },
  {
   "metadata": {
    "ExecuteTime": {
     "end_time": "2024-04-18T03:28:51.030952Z",
     "start_time": "2024-04-18T03:28:51.014611Z"
    }
   },
   "cell_type": "code",
   "source": "frame2.sort_values(by='Temp')",
   "id": "ff053ed0aa381dfa",
   "outputs": [
    {
     "data": {
      "text/plain": [
       "   Speed  Huminity  Temp\n",
       "0    102        45    14\n",
       "2    135        14    22\n",
       "1    123        23    43"
      ],
      "text/html": [
       "<div>\n",
       "<style scoped>\n",
       "    .dataframe tbody tr th:only-of-type {\n",
       "        vertical-align: middle;\n",
       "    }\n",
       "\n",
       "    .dataframe tbody tr th {\n",
       "        vertical-align: top;\n",
       "    }\n",
       "\n",
       "    .dataframe thead th {\n",
       "        text-align: right;\n",
       "    }\n",
       "</style>\n",
       "<table border=\"1\" class=\"dataframe\">\n",
       "  <thead>\n",
       "    <tr style=\"text-align: right;\">\n",
       "      <th></th>\n",
       "      <th>Speed</th>\n",
       "      <th>Huminity</th>\n",
       "      <th>Temp</th>\n",
       "    </tr>\n",
       "  </thead>\n",
       "  <tbody>\n",
       "    <tr>\n",
       "      <th>0</th>\n",
       "      <td>102</td>\n",
       "      <td>45</td>\n",
       "      <td>14</td>\n",
       "    </tr>\n",
       "    <tr>\n",
       "      <th>2</th>\n",
       "      <td>135</td>\n",
       "      <td>14</td>\n",
       "      <td>22</td>\n",
       "    </tr>\n",
       "    <tr>\n",
       "      <th>1</th>\n",
       "      <td>123</td>\n",
       "      <td>23</td>\n",
       "      <td>43</td>\n",
       "    </tr>\n",
       "  </tbody>\n",
       "</table>\n",
       "</div>"
      ]
     },
     "execution_count": 19,
     "metadata": {},
     "output_type": "execute_result"
    }
   ],
   "execution_count": 19
  },
  {
   "metadata": {
    "ExecuteTime": {
     "end_time": "2024-04-18T03:31:15.261263Z",
     "start_time": "2024-04-18T03:31:15.249840Z"
    }
   },
   "cell_type": "code",
   "source": [
    "series = pd.Series([100, 200, 300], index=['a', 'b', 'c'])\n",
    "series"
   ],
   "id": "5cb0f4c168eb14ce",
   "outputs": [
    {
     "data": {
      "text/plain": [
       "a    100\n",
       "b    200\n",
       "c    300\n",
       "dtype: int64"
      ]
     },
     "execution_count": 20,
     "metadata": {},
     "output_type": "execute_result"
    }
   ],
   "execution_count": 20
  },
  {
   "metadata": {
    "ExecuteTime": {
     "end_time": "2024-04-18T03:33:15.793383Z",
     "start_time": "2024-04-18T03:33:15.782115Z"
    }
   },
   "cell_type": "code",
   "source": "frame2.sum()",
   "id": "809034dc1da598e1",
   "outputs": [
    {
     "data": {
      "text/plain": [
       "Speed       360\n",
       "Huminity     82\n",
       "Temp         79\n",
       "dtype: int64"
      ]
     },
     "execution_count": 21,
     "metadata": {},
     "output_type": "execute_result"
    }
   ],
   "execution_count": 21
  },
  {
   "metadata": {
    "ExecuteTime": {
     "end_time": "2024-04-18T03:33:22.916864Z",
     "start_time": "2024-04-18T03:33:22.905469Z"
    }
   },
   "cell_type": "code",
   "source": "frame2",
   "id": "ba3229ae6dd86ab9",
   "outputs": [
    {
     "data": {
      "text/plain": [
       "   Speed  Huminity  Temp\n",
       "2    135        14    22\n",
       "1    123        23    43\n",
       "0    102        45    14"
      ],
      "text/html": [
       "<div>\n",
       "<style scoped>\n",
       "    .dataframe tbody tr th:only-of-type {\n",
       "        vertical-align: middle;\n",
       "    }\n",
       "\n",
       "    .dataframe tbody tr th {\n",
       "        vertical-align: top;\n",
       "    }\n",
       "\n",
       "    .dataframe thead th {\n",
       "        text-align: right;\n",
       "    }\n",
       "</style>\n",
       "<table border=\"1\" class=\"dataframe\">\n",
       "  <thead>\n",
       "    <tr style=\"text-align: right;\">\n",
       "      <th></th>\n",
       "      <th>Speed</th>\n",
       "      <th>Huminity</th>\n",
       "      <th>Temp</th>\n",
       "    </tr>\n",
       "  </thead>\n",
       "  <tbody>\n",
       "    <tr>\n",
       "      <th>2</th>\n",
       "      <td>135</td>\n",
       "      <td>14</td>\n",
       "      <td>22</td>\n",
       "    </tr>\n",
       "    <tr>\n",
       "      <th>1</th>\n",
       "      <td>123</td>\n",
       "      <td>23</td>\n",
       "      <td>43</td>\n",
       "    </tr>\n",
       "    <tr>\n",
       "      <th>0</th>\n",
       "      <td>102</td>\n",
       "      <td>45</td>\n",
       "      <td>14</td>\n",
       "    </tr>\n",
       "  </tbody>\n",
       "</table>\n",
       "</div>"
      ]
     },
     "execution_count": 22,
     "metadata": {},
     "output_type": "execute_result"
    }
   ],
   "execution_count": 22
  },
  {
   "metadata": {
    "ExecuteTime": {
     "end_time": "2024-04-18T03:33:44.317319Z",
     "start_time": "2024-04-18T03:33:44.305841Z"
    }
   },
   "cell_type": "code",
   "source": "frame2.sum(axis=1)",
   "id": "f49354658f00a57d",
   "outputs": [
    {
     "data": {
      "text/plain": [
       "2    171\n",
       "1    189\n",
       "0    161\n",
       "dtype: int64"
      ]
     },
     "execution_count": 23,
     "metadata": {},
     "output_type": "execute_result"
    }
   ],
   "execution_count": 23
  },
  {
   "metadata": {
    "ExecuteTime": {
     "end_time": "2024-04-18T03:35:31.102911Z",
     "start_time": "2024-04-18T03:35:31.090421Z"
    }
   },
   "cell_type": "code",
   "source": "frame2.idxmax()",
   "id": "c0cf80f1b29f2be",
   "outputs": [
    {
     "data": {
      "text/plain": [
       "Speed       2\n",
       "Huminity    0\n",
       "Temp        1\n",
       "dtype: int64"
      ]
     },
     "execution_count": 24,
     "metadata": {},
     "output_type": "execute_result"
    }
   ],
   "execution_count": 24
  },
  {
   "metadata": {
    "ExecuteTime": {
     "end_time": "2024-04-18T03:35:38.501247Z",
     "start_time": "2024-04-18T03:35:38.489330Z"
    }
   },
   "cell_type": "code",
   "source": "frame2.idxmin()",
   "id": "1d418e09bedf8553",
   "outputs": [
    {
     "data": {
      "text/plain": [
       "Speed       0\n",
       "Huminity    2\n",
       "Temp        0\n",
       "dtype: int64"
      ]
     },
     "execution_count": 25,
     "metadata": {},
     "output_type": "execute_result"
    }
   ],
   "execution_count": 25
  },
  {
   "metadata": {
    "ExecuteTime": {
     "end_time": "2024-04-18T03:37:21.579321Z",
     "start_time": "2024-04-18T03:37:21.574270Z"
    }
   },
   "cell_type": "code",
   "source": "import numpy as np",
   "id": "29c688c0f4e550a3",
   "outputs": [],
   "execution_count": 26
  },
  {
   "metadata": {
    "ExecuteTime": {
     "end_time": "2024-04-18T03:38:29.825254Z",
     "start_time": "2024-04-18T03:38:29.815492Z"
    }
   },
   "cell_type": "code",
   "source": [
    "ser = pd.Series([1,2,3,4,np.nan], index=['a', 'b', 'c', 'd', 'e'])\n",
    "ser"
   ],
   "id": "5d397a13ea14e089",
   "outputs": [
    {
     "data": {
      "text/plain": [
       "a    1.0\n",
       "b    2.0\n",
       "c    3.0\n",
       "d    4.0\n",
       "e    NaN\n",
       "dtype: float64"
      ]
     },
     "execution_count": 28,
     "metadata": {},
     "output_type": "execute_result"
    }
   ],
   "execution_count": 28
  },
  {
   "metadata": {
    "ExecuteTime": {
     "end_time": "2024-04-18T03:38:45.084311Z",
     "start_time": "2024-04-18T03:38:45.066443Z"
    }
   },
   "cell_type": "code",
   "source": "ser.dropna()",
   "id": "d0614ab7cac5f2ca",
   "outputs": [
    {
     "data": {
      "text/plain": [
       "a    1.0\n",
       "b    2.0\n",
       "c    3.0\n",
       "d    4.0\n",
       "dtype: float64"
      ]
     },
     "execution_count": 29,
     "metadata": {},
     "output_type": "execute_result"
    }
   ],
   "execution_count": 29
  },
  {
   "metadata": {
    "ExecuteTime": {
     "end_time": "2024-04-18T03:39:02.772468Z",
     "start_time": "2024-04-18T03:39:02.761964Z"
    }
   },
   "cell_type": "code",
   "source": [
    "ser = ser.dropna()\n",
    "ser"
   ],
   "id": "29f8259676b47ecd",
   "outputs": [
    {
     "data": {
      "text/plain": [
       "a    1.0\n",
       "b    2.0\n",
       "c    3.0\n",
       "d    4.0\n",
       "dtype: float64"
      ]
     },
     "execution_count": 30,
     "metadata": {},
     "output_type": "execute_result"
    }
   ],
   "execution_count": 30
  },
  {
   "metadata": {
    "ExecuteTime": {
     "end_time": "2024-04-18T03:41:22.845909Z",
     "start_time": "2024-04-18T03:41:22.835534Z"
    }
   },
   "cell_type": "code",
   "source": [
    "ser = pd.Series([1,2,3,4,np.nan], index=['a', 'b', 'c', 'd', 'e'])\n",
    "ser"
   ],
   "id": "5dd7304b5a106368",
   "outputs": [
    {
     "data": {
      "text/plain": [
       "a    1.0\n",
       "b    2.0\n",
       "c    3.0\n",
       "d    4.0\n",
       "e    NaN\n",
       "dtype: float64"
      ]
     },
     "execution_count": 31,
     "metadata": {},
     "output_type": "execute_result"
    }
   ],
   "execution_count": 31
  },
  {
   "metadata": {
    "ExecuteTime": {
     "end_time": "2024-04-18T03:41:31.915455Z",
     "start_time": "2024-04-18T03:41:31.907228Z"
    }
   },
   "cell_type": "code",
   "source": "ser.fillna(100)\n",
   "id": "58bd2a61ee3b398a",
   "outputs": [
    {
     "data": {
      "text/plain": [
       "a      1.0\n",
       "b      2.0\n",
       "c      3.0\n",
       "d      4.0\n",
       "e    100.0\n",
       "dtype: float64"
      ]
     },
     "execution_count": 32,
     "metadata": {},
     "output_type": "execute_result"
    }
   ],
   "execution_count": 32
  },
  {
   "metadata": {},
   "cell_type": "code",
   "outputs": [],
   "execution_count": null,
   "source": "",
   "id": "de7e4f22ec06ee0b"
  }
 ],
 "metadata": {
  "kernelspec": {
   "display_name": "Python 3",
   "language": "python",
   "name": "python3"
  },
  "language_info": {
   "codemirror_mode": {
    "name": "ipython",
    "version": 2
   },
   "file_extension": ".py",
   "mimetype": "text/x-python",
   "name": "python",
   "nbconvert_exporter": "python",
   "pygments_lexer": "ipython2",
   "version": "2.7.6"
  }
 },
 "nbformat": 4,
 "nbformat_minor": 5
}
