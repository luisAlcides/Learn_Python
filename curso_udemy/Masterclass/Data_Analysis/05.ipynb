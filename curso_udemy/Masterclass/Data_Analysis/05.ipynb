{
 "cells": [
  {
   "cell_type": "code",
   "id": "initial_id",
   "metadata": {
    "collapsed": true,
    "ExecuteTime": {
     "end_time": "2024-04-21T02:49:36.246248Z",
     "start_time": "2024-04-21T02:49:36.099968Z"
    }
   },
   "source": "import numpy as np",
   "outputs": [],
   "execution_count": 1
  },
  {
   "metadata": {
    "ExecuteTime": {
     "end_time": "2024-04-21T02:50:01.979908Z",
     "start_time": "2024-04-21T02:50:01.973761Z"
    }
   },
   "cell_type": "code",
   "source": [
    "a = np.arange(24)\n",
    "print(a)"
   ],
   "id": "78b8f5baa1886b2a",
   "outputs": [
    {
     "name": "stdout",
     "output_type": "stream",
     "text": [
      "[ 0  1  2  3  4  5  6  7  8  9 10 11 12 13 14 15 16 17 18 19 20 21 22 23]\n"
     ]
    }
   ],
   "execution_count": 2
  },
  {
   "metadata": {
    "ExecuteTime": {
     "end_time": "2024-04-21T02:51:07.323014Z",
     "start_time": "2024-04-21T02:51:07.317637Z"
    }
   },
   "cell_type": "code",
   "source": [
    "b = a.reshape(2, 4, 3)\n",
    "print(b)"
   ],
   "id": "23ab2849122e00c4",
   "outputs": [
    {
     "name": "stdout",
     "output_type": "stream",
     "text": [
      "[[[ 0  1  2]\n",
      "  [ 3  4  5]\n",
      "  [ 6  7  8]\n",
      "  [ 9 10 11]]\n",
      "\n",
      " [[12 13 14]\n",
      "  [15 16 17]\n",
      "  [18 19 20]\n",
      "  [21 22 23]]]\n"
     ]
    }
   ],
   "execution_count": 4
  },
  {
   "metadata": {
    "ExecuteTime": {
     "end_time": "2024-04-21T02:53:37.281435Z",
     "start_time": "2024-04-21T02:53:37.277885Z"
    }
   },
   "cell_type": "code",
   "source": [
    "x = np.zeros(5, dtype=np.int_)\n",
    "print(x)"
   ],
   "id": "1cbf3ca9548378d3",
   "outputs": [
    {
     "name": "stdout",
     "output_type": "stream",
     "text": [
      "[0 0 0 0 0]\n"
     ]
    }
   ],
   "execution_count": 9
  },
  {
   "metadata": {
    "ExecuteTime": {
     "end_time": "2024-04-21T02:55:02.707572Z",
     "start_time": "2024-04-21T02:55:02.702513Z"
    }
   },
   "cell_type": "code",
   "source": [
    "x = np.linspace(10, 20, 5, endpoint=False)\n",
    "print(x)"
   ],
   "id": "e0cbc113eee20e5d",
   "outputs": [
    {
     "name": "stdout",
     "output_type": "stream",
     "text": [
      "[10. 12. 14. 16. 18.]\n"
     ]
    }
   ],
   "execution_count": 11
  },
  {
   "metadata": {
    "ExecuteTime": {
     "end_time": "2024-04-21T02:56:37.975027Z",
     "start_time": "2024-04-21T02:56:37.970641Z"
    }
   },
   "cell_type": "code",
   "source": [
    "a = np.logspace(1.0, 2.0, num=10, base=2)\n",
    "print(a)"
   ],
   "id": "79a3449566f872c6",
   "outputs": [
    {
     "name": "stdout",
     "output_type": "stream",
     "text": [
      "[2.         2.16011948 2.33305808 2.5198421  2.72158    2.93946898\n",
      " 3.1748021  3.42897593 3.70349885 4.        ]\n"
     ]
    }
   ],
   "execution_count": 13
  },
  {
   "metadata": {},
   "cell_type": "code",
   "outputs": [],
   "execution_count": null,
   "source": "",
   "id": "ee3fe8ea263c6dbd"
  }
 ],
 "metadata": {
  "kernelspec": {
   "display_name": "Python 3",
   "language": "python",
   "name": "python3"
  },
  "language_info": {
   "codemirror_mode": {
    "name": "ipython",
    "version": 2
   },
   "file_extension": ".py",
   "mimetype": "text/x-python",
   "name": "python",
   "nbconvert_exporter": "python",
   "pygments_lexer": "ipython2",
   "version": "2.7.6"
  }
 },
 "nbformat": 4,
 "nbformat_minor": 5
}
